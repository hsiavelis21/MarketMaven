{
 "cells": [
  {
   "cell_type": "code",
   "execution_count": 1,
   "id": "0ffd25a6",
   "metadata": {},
   "outputs": [],
   "source": [
    "import numpy as np\n",
    "import pandas as pd\n",
    "import matplotlib.pyplot as plt\n",
    "import networkx as nx\n",
    "import math\n",
    "from ordered_set import OrderedSet\n",
    "np.seterr(divide = 'ignore') \n",
    "np.seterr(over=\"ignore\")\n",
    "np.seterr(all=\"ignore\")\n",
    "np.seterr(under=\"ignore\")\n",
    "np.seterr(invalid=\"ignore\")\n",
    "from pathlib import Path  "
   ]
  },
  {
   "cell_type": "code",
   "execution_count": 2,
   "id": "5a0fa5a7",
   "metadata": {},
   "outputs": [
    {
     "name": "stdout",
     "output_type": "stream",
     "text": [
      "/Users/helensiavelis/Desktop/Caltech/Senior/Spring 2023/CS 145/CS-145\n"
     ]
    }
   ],
   "source": [
    "cd .."
   ]
  },
  {
   "cell_type": "code",
   "execution_count": 3,
   "id": "9962eb48",
   "metadata": {},
   "outputs": [
    {
     "name": "stdout",
     "output_type": "stream",
     "text": [
      "/Users/helensiavelis/Desktop/Caltech/Senior/Spring 2023/CS 145/CS-145/MarketMaven/data\n"
     ]
    }
   ],
   "source": [
    "cd MarketMaven/data"
   ]
  },
  {
   "cell_type": "markdown",
   "id": "a10df279",
   "metadata": {},
   "source": [
    "# Load the Data and Graphs"
   ]
  },
  {
   "cell_type": "code",
   "execution_count": 6,
   "id": "ce37480b",
   "metadata": {},
   "outputs": [],
   "source": [
    "data = pd.read_csv('monthly_stock.csv')\n",
    "ffm = pd.read_csv('monthly_stock_ffm.csv')\n",
    "tickers = pd.read_csv('current_crsp_tickers.csv')\n",
    "\n",
    "amex = pd.read_csv('adj_matrix_AMEX.csv')\n",
    "nasdaq = pd.read_csv('adj_matrix_NASDAQ.csv')\n",
    "nyse = pd.read_csv('adj_matrix_NYSE.csv')\n",
    "all_exch = pd.read_csv('adj_matrix_NYSE_NASDAQ_AMEX.csv')"
   ]
  },
  {
   "cell_type": "code",
   "execution_count": null,
   "id": "014cd60a",
   "metadata": {},
   "outputs": [],
   "source": [
    "amex_graph = nx.from_pandas_adjacency()"
   ]
  },
  {
   "cell_type": "code",
   "execution_count": null,
   "id": "ff8aaf9a",
   "metadata": {},
   "outputs": [],
   "source": []
  },
  {
   "cell_type": "code",
   "execution_count": null,
   "id": "1491b16a",
   "metadata": {},
   "outputs": [],
   "source": []
  },
  {
   "cell_type": "code",
   "execution_count": null,
   "id": "23474f69",
   "metadata": {},
   "outputs": [],
   "source": []
  },
  {
   "cell_type": "code",
   "execution_count": null,
   "id": "aa3670fe",
   "metadata": {},
   "outputs": [],
   "source": [
    "cd .."
   ]
  },
  {
   "cell_type": "code",
   "execution_count": null,
   "id": "4ea8abdf",
   "metadata": {},
   "outputs": [],
   "source": [
    "adj_list = pd.read_csv(\"adj_matrix.csv\", index_col='index')\n",
    "g = nx.from_numpy_array(adj_list.values, parallel_edges=True)\n",
    "g.remove_nodes_from(list(nx.isolates(g)))"
   ]
  },
  {
   "cell_type": "code",
   "execution_count": null,
   "id": "ba086450",
   "metadata": {},
   "outputs": [],
   "source": [
    "plt.figure(figsize=(20, 20))\n",
    "nx.draw_spring(g)"
   ]
  },
  {
   "cell_type": "code",
   "execution_count": null,
   "id": "88495dfb",
   "metadata": {},
   "outputs": [],
   "source": [
    "adj_list = pd.read_csv(\"adj_matrix.csv\", index_col='index')\n",
    "g_correct = nx.from_pandas_adjacency(adj_list)"
   ]
  },
  {
   "cell_type": "code",
   "execution_count": null,
   "id": "88d12350",
   "metadata": {},
   "outputs": [],
   "source": []
  },
  {
   "cell_type": "code",
   "execution_count": null,
   "id": "b9444c49",
   "metadata": {},
   "outputs": [],
   "source": [
    "########################################################"
   ]
  },
  {
   "cell_type": "code",
   "execution_count": null,
   "id": "bb889690",
   "metadata": {},
   "outputs": [],
   "source": [
    "degree_centrality = nx.degree_centrality(g)\n",
    "closeness_centrality = nx.closeness_centrality(g)\n",
    "betweenness_centrality = nx.betweenness_centrality(g)"
   ]
  },
  {
   "cell_type": "code",
   "execution_count": null,
   "id": "c4ae453b",
   "metadata": {},
   "outputs": [],
   "source": [
    "def solve_optimization_problem():\n",
    "    return 1/3 "
   ]
  },
  {
   "cell_type": "code",
   "execution_count": null,
   "id": "7ab21eb9",
   "metadata": {},
   "outputs": [],
   "source": []
  },
  {
   "cell_type": "code",
   "execution_count": null,
   "id": "19c8c90b",
   "metadata": {},
   "outputs": [],
   "source": [
    "# Find the average centralities of all stocks and put into dataframe\n",
    "def find_average_centralities(graph):\n",
    "    scale_factor = solve_optimization_problem()\n",
    "    ## need to get centrality degree for each node, assume all permnos in the data and graph are to be looked at \n",
    "    for group in data.groupby('permno'):\n",
    "        curr_permno = group[0]\n",
    "        curr_centrality = scale_factor * (degree_centrality[curr_permno] + closeness_centrality[curr_permno] + betweenness_centrality[curr_permno])\n",
    "        group['centrality_coef'] = curr_centrality   \n",
    "        "
   ]
  },
  {
   "cell_type": "code",
   "execution_count": null,
   "id": "d4b68388",
   "metadata": {},
   "outputs": [],
   "source": [
    "find_average_centralities(g)"
   ]
  },
  {
   "cell_type": "code",
   "execution_count": null,
   "id": "963a2570",
   "metadata": {},
   "outputs": [],
   "source": [
    "##########################"
   ]
  },
  {
   "cell_type": "code",
   "execution_count": null,
   "id": "429f52e1",
   "metadata": {},
   "outputs": [],
   "source": [
    "def set_quartiles(group):\n",
    "    ## for each date, find the quartlies and sort into short and long \n",
    "    quarts = pd.qcut(curr_vals['centrality_coef'].rank(method='first'), 10, labels=False)\n",
    "    \n",
    "    ## set a new column for quartiles "
   ]
  },
  {
   "cell_type": "code",
   "execution_count": null,
   "id": "7829ff79",
   "metadata": {},
   "outputs": [],
   "source": [
    "def calc_weights(group):\n",
    "    # put positive weights in for first quartile (long)\n",
    "    # put short weights in for last quartile (short)\n",
    "    # else put 0\n",
    "    \n",
    "    \n",
    "    \n",
    "    total_size = group['SZE'].sum()\n",
    "    num_stocks = group['SZE'].count()\n",
    "    group['eq_weight'] = 1/float(num_stocks)\n",
    "    group['val_weight'] = group['SZE']/total_size\n",
    "    return group"
   ]
  },
  {
   "cell_type": "code",
   "execution_count": null,
   "id": "6535de31",
   "metadata": {},
   "outputs": [],
   "source": [
    "data = data.groupby('date').apply(set_quartiles)\n",
    "data = data.groupby('date').apply(calc_weights)"
   ]
  },
  {
   "cell_type": "code",
   "execution_count": null,
   "id": "c73c7c38",
   "metadata": {},
   "outputs": [],
   "source": []
  }
 ],
 "metadata": {
  "kernelspec": {
   "display_name": "Python 3 (ipykernel)",
   "language": "python",
   "name": "python3"
  },
  "language_info": {
   "codemirror_mode": {
    "name": "ipython",
    "version": 3
   },
   "file_extension": ".py",
   "mimetype": "text/x-python",
   "name": "python",
   "nbconvert_exporter": "python",
   "pygments_lexer": "ipython3",
   "version": "3.9.4"
  }
 },
 "nbformat": 4,
 "nbformat_minor": 5
}
