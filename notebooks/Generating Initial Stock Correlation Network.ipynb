{
 "cells": [
  {
   "cell_type": "code",
   "execution_count": 2,
   "metadata": {},
   "outputs": [
    {
     "data": {
      "text/plain": [
       "{'divide': 'ignore', 'over': 'ignore', 'under': 'ignore', 'invalid': 'ignore'}"
      ]
     },
     "execution_count": 2,
     "metadata": {},
     "output_type": "execute_result"
    }
   ],
   "source": [
    "import numpy as np\n",
    "import pandas as pd\n",
    "import matplotlib.pyplot as plt\n",
    "import networkx as nx\n",
    "import math\n",
    "from ordered_set import OrderedSet\n",
    "np.seterr(divide = 'ignore') \n",
    "np.seterr(over=\"ignore\")\n",
    "np.seterr(all=\"ignore\")\n",
    "np.seterr(under=\"ignore\")\n",
    "np.seterr(invalid=\"ignore\")\n"
   ]
  },
  {
   "cell_type": "code",
   "execution_count": 3,
   "metadata": {},
   "outputs": [
    {
     "name": "stdout",
     "output_type": "stream",
     "text": [
      "/Users/helensiavelis/Desktop/Caltech/Senior/Spring 2023/CS 145/CS-145\n"
     ]
    }
   ],
   "source": [
    "cd .."
   ]
  },
  {
   "cell_type": "code",
   "execution_count": 4,
   "metadata": {},
   "outputs": [
    {
     "name": "stdout",
     "output_type": "stream",
     "text": [
      "/Users/helensiavelis/Desktop/Caltech/Senior/Spring 2023/CS 145/CS-145/MarketMaven/data\n"
     ]
    }
   ],
   "source": [
    "cd MarketMaven/data"
   ]
  },
  {
   "cell_type": "code",
   "execution_count": 28,
   "metadata": {},
   "outputs": [
    {
     "data": {
      "text/html": [
       "<div>\n",
       "<style scoped>\n",
       "    .dataframe tbody tr th:only-of-type {\n",
       "        vertical-align: middle;\n",
       "    }\n",
       "\n",
       "    .dataframe tbody tr th {\n",
       "        vertical-align: top;\n",
       "    }\n",
       "\n",
       "    .dataframe thead th {\n",
       "        text-align: right;\n",
       "    }\n",
       "</style>\n",
       "<table border=\"1\" class=\"dataframe\">\n",
       "  <thead>\n",
       "    <tr style=\"text-align: right;\">\n",
       "      <th></th>\n",
       "      <th>permno</th>\n",
       "      <th>date</th>\n",
       "      <th>returns</th>\n",
       "    </tr>\n",
       "  </thead>\n",
       "  <tbody>\n",
       "    <tr>\n",
       "      <th>1</th>\n",
       "      <td>43123</td>\n",
       "      <td>2010-01-29</td>\n",
       "      <td>-0.087559</td>\n",
       "    </tr>\n",
       "    <tr>\n",
       "      <th>4</th>\n",
       "      <td>87532</td>\n",
       "      <td>2010-01-29</td>\n",
       "      <td>-0.002469</td>\n",
       "    </tr>\n",
       "    <tr>\n",
       "      <th>8</th>\n",
       "      <td>83534</td>\n",
       "      <td>2010-01-29</td>\n",
       "      <td>-0.136029</td>\n",
       "    </tr>\n",
       "    <tr>\n",
       "      <th>10</th>\n",
       "      <td>79839</td>\n",
       "      <td>2010-01-29</td>\n",
       "      <td>-0.089093</td>\n",
       "    </tr>\n",
       "    <tr>\n",
       "      <th>11</th>\n",
       "      <td>43350</td>\n",
       "      <td>2010-01-29</td>\n",
       "      <td>-0.005048</td>\n",
       "    </tr>\n",
       "    <tr>\n",
       "      <th>...</th>\n",
       "      <td>...</td>\n",
       "      <td>...</td>\n",
       "      <td>...</td>\n",
       "    </tr>\n",
       "    <tr>\n",
       "      <th>463121</th>\n",
       "      <td>19937</td>\n",
       "      <td>2020-12-31</td>\n",
       "      <td>0.341228</td>\n",
       "    </tr>\n",
       "    <tr>\n",
       "      <th>463122</th>\n",
       "      <td>12570</td>\n",
       "      <td>2020-12-31</td>\n",
       "      <td>0.062770</td>\n",
       "    </tr>\n",
       "    <tr>\n",
       "      <th>463123</th>\n",
       "      <td>13188</td>\n",
       "      <td>2020-12-31</td>\n",
       "      <td>0.069342</td>\n",
       "    </tr>\n",
       "    <tr>\n",
       "      <th>463124</th>\n",
       "      <td>18202</td>\n",
       "      <td>2020-12-31</td>\n",
       "      <td>-0.044745</td>\n",
       "    </tr>\n",
       "    <tr>\n",
       "      <th>463125</th>\n",
       "      <td>93436</td>\n",
       "      <td>2020-12-31</td>\n",
       "      <td>0.243252</td>\n",
       "    </tr>\n",
       "  </tbody>\n",
       "</table>\n",
       "<p>328738 rows × 3 columns</p>\n",
       "</div>"
      ],
      "text/plain": [
       "        permno        date   returns\n",
       "1        43123  2010-01-29 -0.087559\n",
       "4        87532  2010-01-29 -0.002469\n",
       "8        83534  2010-01-29 -0.136029\n",
       "10       79839  2010-01-29 -0.089093\n",
       "11       43350  2010-01-29 -0.005048\n",
       "...        ...         ...       ...\n",
       "463121   19937  2020-12-31  0.341228\n",
       "463122   12570  2020-12-31  0.062770\n",
       "463123   13188  2020-12-31  0.069342\n",
       "463124   18202  2020-12-31 -0.044745\n",
       "463125   93436  2020-12-31  0.243252\n",
       "\n",
       "[328738 rows x 3 columns]"
      ]
     },
     "execution_count": 28,
     "metadata": {},
     "output_type": "execute_result"
    }
   ],
   "source": [
    "data"
   ]
  },
  {
   "cell_type": "code",
   "execution_count": 26,
   "metadata": {},
   "outputs": [],
   "source": [
    "data = pd.read_csv('monthly_stock.csv')\n",
    "remove_indexes = data[data['returns'] == 0].index\n",
    "data.drop(remove_indexes, inplace=True)\n",
    "data = data.drop(\"monthly_transaction_id\", axis=1)\n",
    "data = data.drop(\"price\", axis=1)\n",
    "data = data.drop(\"shares_outstanding\", axis=1)\n",
    "data = data.drop(\"share_type\", axis=1)\n",
    "data = data.drop(\"exchange\", axis=1)"
   ]
  },
  {
   "cell_type": "code",
   "execution_count": 27,
   "metadata": {},
   "outputs": [],
   "source": [
    "## drop out any stocks that are not currently in the database\n",
    "# find the last index of each permno. if not in 2020-12-31, drop it \n",
    "for permno in set(data['permno'].values):\n",
    "    last_index = data[data['permno'] == permno].tail(1)\n",
    "    if last_index['date'].item() < '2020-12-31':\n",
    "        remove_indexes = data[data['permno'] == permno].index\n",
    "        data.drop(remove_indexes, inplace=True)\n",
    "    \n"
   ]
  },
  {
   "cell_type": "code",
   "execution_count": 29,
   "metadata": {},
   "outputs": [],
   "source": [
    "def create_correlation_matrix(permnos):\n",
    "    lst = []\n",
    "    counter = 0 \n",
    "    for i in permnos:\n",
    "        sub_lst = []\n",
    "        permno_i_data = data[data['permno']== i]\n",
    "        for j in permnos:\n",
    "            permno_j_data = data[data['permno']== j]\n",
    "            \n",
    "            intersection = list(OrderedSet(list(permno_i_data['date'].values)) & OrderedSet(list(permno_j_data['date'].values)))\n",
    "            returns_i = list(permno_i_data[permno_i_data['date'].isin(intersection)]['returns'].values)\n",
    "            returns_j = list(permno_j_data[permno_j_data['date'].isin(intersection)]['returns'].values)\n",
    "            sub_lst.append(np.corrcoef(returns_i, returns_j)[1, 0])\n",
    "        \n",
    "        lst.append(sub_lst)\n",
    "        counter +=1\n",
    "        if counter % 10 == 0:\n",
    "            print(counter)\n",
    "    return lst "
   ]
  },
  {
   "cell_type": "code",
   "execution_count": 30,
   "metadata": {},
   "outputs": [],
   "source": [
    "def adj_matrix(correlation_matrix, theta):\n",
    "    lst = []\n",
    "    for row_index in range(len(correlation_matrix)):\n",
    "        sub_lst = []\n",
    "        for col_index in range(len(correlation_matrix[row_index])):\n",
    "            if row_index != col_index and abs(correlation_matrix[row_index][col_index]) > theta:\n",
    "                sub_lst.append(1)\n",
    "            else:\n",
    "                sub_lst.append(0)\n",
    "        lst.append(sub_lst)\n",
    "    return lst\n"
   ]
  },
  {
   "cell_type": "code",
   "execution_count": 10,
   "metadata": {},
   "outputs": [],
   "source": [
    "## pass in permnos to creat_correlation_matrix\n",
    "## then pass in correlation matrix to theta \n",
    "## write list to csv "
   ]
  },
  {
   "cell_type": "code",
   "execution_count": 11,
   "metadata": {},
   "outputs": [],
   "source": [
    "# now build the correlation network "
   ]
  },
  {
   "cell_type": "code",
   "execution_count": 31,
   "metadata": {},
   "outputs": [
    {
     "data": {
      "text/plain": [
       "3537"
      ]
     },
     "execution_count": 31,
     "metadata": {},
     "output_type": "execute_result"
    }
   ],
   "source": [
    "len(data['permno'].unique())"
   ]
  },
  {
   "cell_type": "code",
   "execution_count": null,
   "metadata": {
    "scrolled": true
   },
   "outputs": [
    {
     "name": "stderr",
     "output_type": "stream",
     "text": [
      "/Users/helensiavelis/miniforge3/lib/python3.9/site-packages/numpy/lib/function_base.py:2846: RuntimeWarning: Degrees of freedom <= 0 for slice\n",
      "  c = cov(x, y, rowvar, dtype=dtype)\n"
     ]
    },
    {
     "name": "stdout",
     "output_type": "stream",
     "text": [
      "10\n",
      "20\n",
      "30\n",
      "40\n",
      "50\n",
      "60\n",
      "70\n",
      "80\n",
      "90\n",
      "100\n",
      "110\n",
      "120\n",
      "130\n",
      "140\n",
      "150\n",
      "160\n",
      "170\n",
      "180\n",
      "190\n",
      "200\n",
      "210\n",
      "220\n",
      "230\n",
      "240\n",
      "250\n",
      "260\n"
     ]
    }
   ],
   "source": [
    "correlation_matrix = create_correlation_matrix(sorted(list(data['permno'].unique())))"
   ]
  },
  {
   "cell_type": "code",
   "execution_count": null,
   "metadata": {},
   "outputs": [],
   "source": [
    "plt.figure(figsize=(20, 20))\n",
    "plt.imshow(correlation_matrix, cmap='hot', interpolation='nearest')\n",
    "plt.show()"
   ]
  },
  {
   "cell_type": "code",
   "execution_count": null,
   "metadata": {},
   "outputs": [],
   "source": [
    "np.mean(correlation_matrix)"
   ]
  },
  {
   "cell_type": "code",
   "execution_count": null,
   "metadata": {},
   "outputs": [],
   "source": [
    "theta = .9\n",
    "def adj_matrix(correlation_matrix):\n",
    "    lst = []\n",
    "    for row_index in range(len(correlation_matrix)):\n",
    "        sub_lst = []\n",
    "        for col_index in range(len(correlation_matrix[row_index])):\n",
    "            if row_index != col_index and abs(correlation_matrix[row_index][col_index]) > theta:\n",
    "                sub_lst.append(1)\n",
    "            else:\n",
    "                sub_lst.append(0)\n",
    "        lst.append(sub_lst)\n",
    "    return lst"
   ]
  },
  {
   "cell_type": "code",
   "execution_count": null,
   "metadata": {},
   "outputs": [],
   "source": [
    "def create_correlation_network():\n",
    "    g = nx.Graph()\n",
    "    for key in stock_dict.keys():\n",
    "        g.add_node(key)\n",
    "        \n",
    "    adj_list = adj_matrix(create_correlation_matrix())\n",
    "    dict_keys = list(stock_dict.keys())\n",
    "    \n",
    "    for row_index in range(len(adj_list)):\n",
    "        for col_index in range(len(adj_list[row_index])):\n",
    "            if adj_list[row_index][col_index]:\n",
    "                g.add_edge(dict_keys[row_index], dict_keys[col_index])\n",
    "    return g\n",
    "    "
   ]
  },
  {
   "cell_type": "code",
   "execution_count": null,
   "metadata": {},
   "outputs": [],
   "source": [
    "g = create_correlation_network()\n",
    "\n",
    "plt.figure(figsize=(20, 20))\n",
    "nx.draw_spring(g)"
   ]
  },
  {
   "cell_type": "markdown",
   "metadata": {},
   "source": [
    "#### NOW FIND THE CENTRALITY MEASURES\n",
    "\n",
    "The general ideas is to select the stocks with high centralities, which measure different importances of the stock \n",
    "relative to the market.\n",
    "\n",
    "IN THE FUTURE USE MEASURES TO MAKE A HEDGE, THI strategy is fine for now since our data is from a time period \n",
    "of rapid market growth, so the choosing stocks that are highly correlated with the market is fine. In the future, \n",
    "we need to create a portfolio that hedges this risk AND expand our time period to the 2020s. \n"
   ]
  },
  {
   "cell_type": "code",
   "execution_count": null,
   "metadata": {},
   "outputs": [],
   "source": [
    "def solve_optimization_problem():\n",
    "    return 1/3  "
   ]
  },
  {
   "cell_type": "code",
   "execution_count": null,
   "metadata": {},
   "outputs": [],
   "source": [
    "# Find the average centralities of all stocks\n",
    "def find_average_centralities(graph):\n",
    "    average_centrailites = dict()\n",
    "    scale_factor = solve_optimization_problem()\n",
    "    \n",
    "    degree_centrality = nx.degree_centrality(graph)\n",
    "    closeness_centrality = nx.closeness_centrality(graph)\n",
    "    betweenness_centrality = nx.betweenness_centrality(graph)\n",
    "    \n",
    "    for node in graph.nodes():\n",
    "        average_centrailites[node] = scale_factor * (degree_centrality[node] + closeness_centrality[node] + betweenness_centrality[node])\n",
    "        \n",
    "        \n",
    "    return average_centrailites"
   ]
  },
  {
   "cell_type": "code",
   "execution_count": null,
   "metadata": {},
   "outputs": [],
   "source": [
    "def get_top_stocks(top_percent, graph):\n",
    "    c_avgs = find_average_centralities(graph)\n",
    "    sorted_c_avgs = sorted(c_avgs, key=c_avgs.get, reverse=True)\n",
    "    num_stocks = math.floor(top_percent * len(c_avgs.keys()))\n",
    "    return sorted_c_avgs[:num_stocks]\n",
    "\n",
    "def get_bottom_stocks(bottom_percent, graph):\n",
    "    c_avgs = find_average_centralities(graph)\n",
    "    sorted_c_avgs = sorted(c_avgs, key=c_avgs.get, reverse=False)\n",
    "    num_stocks = math.floor(bottom_percent * len(c_avgs.keys()))\n",
    "    return sorted_c_avgs[:num_stocks]\n"
   ]
  },
  {
   "cell_type": "code",
   "execution_count": null,
   "metadata": {},
   "outputs": [],
   "source": [
    "print(get_top_stocks(.10, g))\n",
    "print(get_bottom_stocks(0.10, g))"
   ]
  },
  {
   "cell_type": "code",
   "execution_count": null,
   "metadata": {},
   "outputs": [],
   "source": [
    "ffm = pd.read_csv('F-F_Research_Data_Factors_daily.CSV') "
   ]
  },
  {
   "cell_type": "code",
   "execution_count": null,
   "metadata": {},
   "outputs": [],
   "source": [
    "## parse through "
   ]
  },
  {
   "cell_type": "code",
   "execution_count": null,
   "metadata": {},
   "outputs": [],
   "source": []
  }
 ],
 "metadata": {
  "kernelspec": {
   "display_name": "Python 3 (ipykernel)",
   "language": "python",
   "name": "python3"
  },
  "language_info": {
   "codemirror_mode": {
    "name": "ipython",
    "version": 3
   },
   "file_extension": ".py",
   "mimetype": "text/x-python",
   "name": "python",
   "nbconvert_exporter": "python",
   "pygments_lexer": "ipython3",
   "version": "3.9.4"
  }
 },
 "nbformat": 4,
 "nbformat_minor": 4
}
