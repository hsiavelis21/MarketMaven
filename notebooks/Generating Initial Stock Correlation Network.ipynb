{
 "cells": [
  {
   "cell_type": "code",
   "execution_count": 1,
   "metadata": {},
   "outputs": [],
   "source": [
    "import numpy as np\n",
    "import pandas as pd\n",
    "import matplotlib.pyplot as plt\n",
    "import networkx as nx\n",
    "import math\n",
    "from ordered_set import OrderedSet\n",
    "np.seterr(divide = 'ignore') \n",
    "np.seterr(over=\"ignore\")\n",
    "np.seterr(all=\"ignore\")\n",
    "np.seterr(under=\"ignore\")\n",
    "np.seterr(invalid=\"ignore\")\n",
    "from pathlib import Path  \n"
   ]
  },
  {
   "cell_type": "code",
   "execution_count": 2,
   "metadata": {},
   "outputs": [
    {
     "name": "stdout",
     "output_type": "stream",
     "text": [
      "/Users/helensiavelis/Desktop/Caltech/Senior/Spring 2023/CS 145/CS-145\n"
     ]
    }
   ],
   "source": [
    "cd .."
   ]
  },
  {
   "cell_type": "code",
   "execution_count": 3,
   "metadata": {},
   "outputs": [
    {
     "name": "stdout",
     "output_type": "stream",
     "text": [
      "/Users/helensiavelis/Desktop/Caltech/Senior/Spring 2023/CS 145/CS-145/MarketMaven/data\n"
     ]
    }
   ],
   "source": [
    "cd MarketMaven/data"
   ]
  },
  {
   "cell_type": "code",
   "execution_count": 18,
   "metadata": {},
   "outputs": [],
   "source": [
    "data = pd.read_csv('monthly_stock.csv')\n",
    "remove_indexes = data[data['returns'] == 0].index\n",
    "data.drop(remove_indexes, inplace=True)"
   ]
  },
  {
   "cell_type": "code",
   "execution_count": 19,
   "metadata": {},
   "outputs": [
    {
     "data": {
      "text/plain": [
       "{'NASDAQ', 'NYSE'}"
      ]
     },
     "execution_count": 19,
     "metadata": {},
     "output_type": "execute_result"
    }
   ],
   "source": [
    "set(data.exchange.values)"
   ]
  },
  {
   "cell_type": "code",
   "execution_count": 22,
   "metadata": {},
   "outputs": [
    {
     "data": {
      "text/html": [
       "<div>\n",
       "<style scoped>\n",
       "    .dataframe tbody tr th:only-of-type {\n",
       "        vertical-align: middle;\n",
       "    }\n",
       "\n",
       "    .dataframe tbody tr th {\n",
       "        vertical-align: top;\n",
       "    }\n",
       "\n",
       "    .dataframe thead th {\n",
       "        text-align: right;\n",
       "    }\n",
       "</style>\n",
       "<table border=\"1\" class=\"dataframe\">\n",
       "  <thead>\n",
       "    <tr style=\"text-align: right;\">\n",
       "      <th></th>\n",
       "      <th>permno</th>\n",
       "      <th>date</th>\n",
       "      <th>price</th>\n",
       "    </tr>\n",
       "  </thead>\n",
       "  <tbody>\n",
       "    <tr>\n",
       "      <th>0</th>\n",
       "      <td>92312</td>\n",
       "      <td>2010-01-29</td>\n",
       "      <td>4.22000</td>\n",
       "    </tr>\n",
       "    <tr>\n",
       "      <th>1</th>\n",
       "      <td>43123</td>\n",
       "      <td>2010-01-29</td>\n",
       "      <td>40.85000</td>\n",
       "    </tr>\n",
       "    <tr>\n",
       "      <th>2</th>\n",
       "      <td>88313</td>\n",
       "      <td>2010-01-29</td>\n",
       "      <td>12.21000</td>\n",
       "    </tr>\n",
       "    <tr>\n",
       "      <th>3</th>\n",
       "      <td>85208</td>\n",
       "      <td>2010-01-29</td>\n",
       "      <td>32.17000</td>\n",
       "    </tr>\n",
       "    <tr>\n",
       "      <th>4</th>\n",
       "      <td>87532</td>\n",
       "      <td>2010-01-29</td>\n",
       "      <td>4.04000</td>\n",
       "    </tr>\n",
       "    <tr>\n",
       "      <th>...</th>\n",
       "      <td>...</td>\n",
       "      <td>...</td>\n",
       "      <td>...</td>\n",
       "    </tr>\n",
       "    <tr>\n",
       "      <th>463121</th>\n",
       "      <td>19937</td>\n",
       "      <td>2020-12-31</td>\n",
       "      <td>27.75000</td>\n",
       "    </tr>\n",
       "    <tr>\n",
       "      <th>463122</th>\n",
       "      <td>12570</td>\n",
       "      <td>2020-12-31</td>\n",
       "      <td>77.02000</td>\n",
       "    </tr>\n",
       "    <tr>\n",
       "      <th>463123</th>\n",
       "      <td>13188</td>\n",
       "      <td>2020-12-31</td>\n",
       "      <td>101.01000</td>\n",
       "    </tr>\n",
       "    <tr>\n",
       "      <th>463124</th>\n",
       "      <td>18202</td>\n",
       "      <td>2020-12-31</td>\n",
       "      <td>9.18000</td>\n",
       "    </tr>\n",
       "    <tr>\n",
       "      <th>463125</th>\n",
       "      <td>93436</td>\n",
       "      <td>2020-12-31</td>\n",
       "      <td>705.66998</td>\n",
       "    </tr>\n",
       "  </tbody>\n",
       "</table>\n",
       "<p>458418 rows × 3 columns</p>\n",
       "</div>"
      ],
      "text/plain": [
       "        permno        date      price\n",
       "0        92312  2010-01-29    4.22000\n",
       "1        43123  2010-01-29   40.85000\n",
       "2        88313  2010-01-29   12.21000\n",
       "3        85208  2010-01-29   32.17000\n",
       "4        87532  2010-01-29    4.04000\n",
       "...        ...         ...        ...\n",
       "463121   19937  2020-12-31   27.75000\n",
       "463122   12570  2020-12-31   77.02000\n",
       "463123   13188  2020-12-31  101.01000\n",
       "463124   18202  2020-12-31    9.18000\n",
       "463125   93436  2020-12-31  705.66998\n",
       "\n",
       "[458418 rows x 3 columns]"
      ]
     },
     "execution_count": 22,
     "metadata": {},
     "output_type": "execute_result"
    }
   ],
   "source": [
    "data"
   ]
  },
  {
   "cell_type": "code",
   "execution_count": 21,
   "metadata": {},
   "outputs": [],
   "source": [
    "\n",
    "data = data.drop(\"monthly_transaction_id\", axis=1)\n",
    "data = data.drop(\"returns\", axis=1)\n",
    "data = data.drop(\"shares_outstanding\", axis=1)\n",
    "data = data.drop(\"share_type\", axis=1)\n",
    "data = data.drop(\"exchange\", axis=1)"
   ]
  },
  {
   "cell_type": "code",
   "execution_count": 23,
   "metadata": {},
   "outputs": [],
   "source": [
    "## drop out any stocks that are not currently in the database\n",
    "# find the last index of each permno. if not in 2020-12-31, drop it \n",
    "for permno in set(data['permno'].values):\n",
    "    last_index = data[data['permno'] == permno].tail(1)\n",
    "    if last_index['date'].item() < '2020-12-31':\n",
    "        remove_indexes = data[data['permno'] == permno].index\n",
    "        data.drop(remove_indexes, inplace=True)\n",
    "    "
   ]
  },
  {
   "cell_type": "code",
   "execution_count": 24,
   "metadata": {},
   "outputs": [],
   "source": [
    "#### the problem is permnos being lost in the correlation matrix"
   ]
  },
  {
   "cell_type": "code",
   "execution_count": 27,
   "metadata": {},
   "outputs": [],
   "source": [
    "## Adds an edge if the correlation is greater than or equal to theta\n",
    "def add_correlation_edges(graph, permnos, theta):\n",
    "    for i in permnos:\n",
    "        permno_i_data = data[data['permno']== i]\n",
    "        for j in permnos:\n",
    "            permno_j_data = data[data['permno']== j]\n",
    "            intersection = list(OrderedSet(list(permno_i_data['date'].values)) & OrderedSet(list(permno_j_data['date'].values)))\n",
    "            returns_i = list(permno_i_data[permno_i_data['date'].isin(intersection)]['price'].values)\n",
    "            returns_j = list(permno_j_data[permno_j_data['date'].isin(intersection)]['price'].values)\n",
    "            curr_corr = np.corrcoef(returns_i, returns_j)[1, 0]\n",
    "            if i != j and abs(curr_corr) > theta:\n",
    "                graph.add_edge(i, j)\n",
    "    return graph\n",
    "            \n",
    "            "
   ]
  },
  {
   "cell_type": "code",
   "execution_count": null,
   "metadata": {},
   "outputs": [
    {
     "name": "stderr",
     "output_type": "stream",
     "text": [
      "/Users/helensiavelis/miniforge3/lib/python3.9/site-packages/numpy/lib/function_base.py:2846: RuntimeWarning: Degrees of freedom <= 0 for slice\n",
      "  c = cov(x, y, rowvar, dtype=dtype)\n"
     ]
    }
   ],
   "source": [
    "## Create a graph here and add all nodes \n",
    "g = nx.Graph()\n",
    "g.add_nodes_from(list(set(data['permno'].values)))\n",
    "g = add_correlation_edges(g, list(g.nodes), .9)\n",
    "g.remove_nodes_from(list(nx.isolates(g)))"
   ]
  },
  {
   "cell_type": "code",
   "execution_count": null,
   "metadata": {},
   "outputs": [],
   "source": [
    "plt.figure(figsize=(50, 50))\n",
    "nx.draw_spring(g)"
   ]
  },
  {
   "cell_type": "code",
   "execution_count": 10,
   "metadata": {},
   "outputs": [],
   "source": [
    "## convert graph to pandas adjacency list \n",
    "aj = nx.to_pandas_adjacency(g)"
   ]
  },
  {
   "cell_type": "code",
   "execution_count": 11,
   "metadata": {},
   "outputs": [
    {
     "ename": "SyntaxError",
     "evalue": "unexpected EOF while parsing (1904060704.py, line 3)",
     "output_type": "error",
     "traceback": [
      "\u001b[0;36m  Input \u001b[0;32mIn [11]\u001b[0;36m\u001b[0m\n\u001b[0;31m    aj.to_csv(filepath\u001b[0m\n\u001b[0m                      ^\u001b[0m\n\u001b[0;31mSyntaxError\u001b[0m\u001b[0;31m:\u001b[0m unexpected EOF while parsing\n"
     ]
    }
   ],
   "source": [
    "## write csv as pandas adjancey list \n",
    "filepath = Path('adj_matrix.csv')  \n",
    "aj.to_csv(filepath"
   ]
  },
  {
   "cell_type": "markdown",
   "metadata": {},
   "source": [
    "# Portfolios and Analysis "
   ]
  },
  {
   "cell_type": "code",
   "execution_count": null,
   "metadata": {},
   "outputs": [],
   "source": [
    "## Optimization problem for centrality coefficients \n",
    "def solve_optimization_problem():\n",
    "    return 1/3  "
   ]
  },
  {
   "cell_type": "code",
   "execution_count": null,
   "metadata": {},
   "outputs": [],
   "source": [
    "## Find the average centralities of all stocks\n",
    "def find_average_centralities(graph):\n",
    "    average_centrailites = dict()\n",
    "    scale_factor = solve_optimization_problem()\n",
    "    \n",
    "    degree_centrality = nx.degree_centrality(graph)\n",
    "    closeness_centrality = nx.closeness_centrality(graph)\n",
    "    betweenness_centrality = nx.betweenness_centrality(graph)\n",
    "    for node in graph.nodes():\n",
    "        average_centrailites[node] = scale_factor * (degree_centrality[node] + closeness_centrality[node] + betweenness_centrality[node])        \n",
    "    return average_centrailites"
   ]
  },
  {
   "cell_type": "code",
   "execution_count": null,
   "metadata": {},
   "outputs": [],
   "source": [
    "## return the long and short stocks\n",
    "def get_long_short_stocks(top_percent, graph, c_avgs):\n",
    "    \n",
    "    ## add centralities into the graph \n",
    "    \n",
    "    sorted_c_avgs_top = sorted(c_avgs, key=c_avgs.get, reverse=True)\n",
    "    sorted_c_avgs_bottom = sorted(c_avgs, key=c_avgs.get, reverse=False)\n",
    "    \n",
    "    \n",
    "    \n",
    "    top_stocks = math.floor(top_percent * len(sorted_c_avgs_top))\n",
    "    bottom_stocks = math.floor(top_percent * len(sorted_c_avgs_bottom))\n",
    "    return sorted_c_avgs_top[:top_stocks], sorted_c_avgs_bottom[:bottom_stocks]\n"
   ]
  },
  {
   "cell_type": "code",
   "execution_count": null,
   "metadata": {},
   "outputs": [],
   "source": [
    "average_centralities = find_average_centralities(g)\n",
    "## enter centralities into the current dataframe "
   ]
  },
  {
   "cell_type": "code",
   "execution_count": null,
   "metadata": {},
   "outputs": [],
   "source": [
    "average_centralities"
   ]
  },
  {
   "cell_type": "code",
   "execution_count": null,
   "metadata": {},
   "outputs": [],
   "source": [
    "data"
   ]
  },
  {
   "cell_type": "code",
   "execution_count": null,
   "metadata": {},
   "outputs": [],
   "source": [
    "long, short = get_long_short_stocks(.10, g, average_centralities)\n",
    "nodes_to_keep = long + short \n"
   ]
  },
  {
   "cell_type": "code",
   "execution_count": null,
   "metadata": {},
   "outputs": [],
   "source": [
    "nodes_to_remove = [node for node in list(g.nodes) if node not in nodes_to_keep]\n",
    "print(len(nodes_to_remove))"
   ]
  },
  {
   "cell_type": "code",
   "execution_count": null,
   "metadata": {},
   "outputs": [],
   "source": [
    "#### remove all nodes from g that are not in the long short (COPIED VERSION)\n",
    "g_copy = g.copy()\n",
    "g_copy.remove_nodes_from(nodes_to_remove)\n",
    "g_copy.remove_nodes_from(list(nx.isolates(g_copy)))"
   ]
  },
  {
   "cell_type": "code",
   "execution_count": null,
   "metadata": {},
   "outputs": [],
   "source": [
    "plt.figure(figsize=(25, 25))\n",
    "nx.draw(g_copy)"
   ]
  },
  {
   "cell_type": "code",
   "execution_count": null,
   "metadata": {},
   "outputs": [],
   "source": [
    "## clean FFM "
   ]
  },
  {
   "cell_type": "code",
   "execution_count": null,
   "metadata": {},
   "outputs": [],
   "source": [
    "## CAPM\n",
    "model = smf.ols(formula='EQ_RF ~ Mkt_RF', data=merged_data).fit()\n",
    "print(f\"P Value: {model.pvalues[0]}\")\n",
    "print(f\"Beta of the EQ Stratgey: {model.params[1]}\")\n",
    "print(f\"Alpha of the EQ Stratgey: {model.params[0]}\")   \n",
    "beta_VAL = model.params[1]"
   ]
  },
  {
   "cell_type": "code",
   "execution_count": null,
   "metadata": {},
   "outputs": [],
   "source": [
    "implied_returns = merged_data['RF'] + beta_VAL * merged_data['Mkt_RF']\n",
    "plt.figure()\n",
    "plt.plot(merged_data['date'], (1 + merged_data['VAL']/100).cumprod() - 1)\n",
    "plt.plot(merged_data['date'], (1 + merged_data['Mkt']/100).cumprod() - 1)\n",
    "plt.plot(merged_data['date'], (1 + implied_returns/100).cumprod() - 1)\n",
    "\n",
    "plt.xlabel(\"Date (Months)\")\n",
    "plt.ylabel(\"Returns\")\n",
    "plt.title(\"Cumulative Returns\")\n",
    "plt.legend(['VAL Strategy', 'Market', 'Implied Returns'])\n",
    "plt.show() "
   ]
  },
  {
   "cell_type": "code",
   "execution_count": null,
   "metadata": {},
   "outputs": [],
   "source": []
  }
 ],
 "metadata": {
  "kernelspec": {
   "display_name": "Python 3 (ipykernel)",
   "language": "python",
   "name": "python3"
  },
  "language_info": {
   "codemirror_mode": {
    "name": "ipython",
    "version": 3
   },
   "file_extension": ".py",
   "mimetype": "text/x-python",
   "name": "python",
   "nbconvert_exporter": "python",
   "pygments_lexer": "ipython3",
   "version": "3.9.4"
  }
 },
 "nbformat": 4,
 "nbformat_minor": 4
}
