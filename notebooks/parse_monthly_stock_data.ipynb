{
 "cells": [
  {
   "cell_type": "markdown",
   "id": "23693f15",
   "metadata": {},
   "source": [
    "This notebook is used to parse crsp data that only includes stocks that are ordinary/common shares and listed on the NYSE, AMEX, or NASDAQ. Also, we set negative prices equal to 'NA' since a negative price represents the midpoint of the bid-ask spread and we only want closing price values."
   ]
  },
  {
   "cell_type": "markdown",
   "id": "0c9f362c",
   "metadata": {},
   "source": [
    "# CRSP Data"
   ]
  },
  {
   "cell_type": "code",
   "execution_count": 2,
   "id": "da7c149b",
   "metadata": {},
   "outputs": [],
   "source": [
    "import pandas as pd\n",
    "from pathlib import Path  \n",
    "import datetime\n",
    "from dateutil.relativedelta import relativedelta\n",
    "import warnings\n",
    "warnings.filterwarnings('ignore')"
   ]
  },
  {
   "cell_type": "code",
   "execution_count": null,
   "id": "bd10327a",
   "metadata": {},
   "outputs": [],
   "source": [
    "cd"
   ]
  },
  {
   "cell_type": "code",
   "execution_count": 6,
   "id": "050e0869",
   "metadata": {},
   "outputs": [
    {
     "name": "stdout",
     "output_type": "stream",
     "text": [
      "/Users/helensiavelis/Desktop/Caltech/Senior/Spring 2023/BEM 114\n"
     ]
    }
   ],
   "source": [
    "cd Desktop/Caltech/Senior/Spring 2023/BEM 114"
   ]
  },
  {
   "cell_type": "code",
   "execution_count": null,
   "id": "8d606cef",
   "metadata": {},
   "outputs": [],
   "source": [
    "data = pd.read_csv(\"crsp_1926_2020.csv\")\n",
    "data.date = pd.to_datetime(data.date)"
   ]
  },
  {
   "cell_type": "markdown",
   "id": "4a33e2fd",
   "metadata": {},
   "source": [
    "## Exchange Encodings \n",
    "\n",
    "1 : NYSE\n",
    "\n",
    "2 : AMEX (NYSE US/MKT)\n",
    "\n",
    "3 : NASDAQ\n",
    "\n",
    "4 : Arca\n",
    "\n",
    "5 : Bats (As Quoted By NASDAQ)\n",
    "\n",
    "6 : ?\n",
    "\n",
    "31 : When-Issued Trading on NYSE\n",
    "\n",
    "32 : When-Issued Trading on NYSE MKT\n",
    "\n",
    "33 : When-ISsued Trading on Arca"
   ]
  },
  {
   "cell_type": "markdown",
   "id": "2e45751e",
   "metadata": {},
   "source": [
    "## Share Encodings \n",
    "\n",
    "10 : US Common Stock\n",
    "\n",
    "11 : US Common Stock\n",
    "\n",
    "12 : Non-US Common Stock\n",
    "\n",
    "14 : US Closed-End Funds and Unit Investment Trusts Common Stock\n",
    "\n",
    "15 : Non-US Closed-End Funds and Unit Investment Trusts Common Stock\n",
    "\n",
    "18 : REITs Common Stock\n",
    "\n",
    "20 : US Certificates\n",
    "\n",
    "21 : US Certificates\n",
    "\n",
    "23 : US Certificates (Americus Trust Components )\n",
    "\n",
    "24 : US Closed-End Funds and Unit Investment US Certificates\n",
    "\n",
    "30 : Americus Trust Stocks \n",
    "\n",
    "31 : Americus Trust ADRs\n",
    "\n",
    "40 : US SBIs \n",
    "\n",
    "41 : US SBIs\n",
    "\n",
    "42 : Non-US SBIs\n",
    "\n",
    "44 : US Closed-End Funds and Unit Investment SBIs\n",
    "\n",
    "48 : REIT SBIs\n",
    "\n",
    "70 : US Units (Depositary Units, Units Of Beneficial Interest, Units Of Limited Partnership Interest, Depositary Receipts, etc.)\n",
    "\n",
    "71 : US Units (Depositary Units, Units Of Beneficial Interest, Units Of Limited Partnership Interest, Depositary Receipts, etc.)\n",
    "\n",
    "72 : Non-US Units (Depositary Units, Units Of Beneficial Interest, Units Of Limited Partnership Interest, Depositary Receipts, etc.)\n",
    "\n",
    "73 : ETFs\n",
    "\n",
    "74 : US Closed-End Funds and Unit Investment Units (Depositary Units, Units Of Beneficial Interest, Units Of Limited Partnership Interest, Depositary Receipts, etc.)\n",
    "\n",
    "75 : Non-US Closed-End Funds and Unit Investment Units (Depositary Units, Units Of Beneficial Interest, Units Of Limited Partnership Interest, Depositary Receipts, etc.)\n"
   ]
  },
  {
   "cell_type": "code",
   "execution_count": null,
   "id": "a3ee02ee",
   "metadata": {},
   "outputs": [],
   "source": [
    "remove_indexes = data[(data['SHRCD'] != 10) & (data['SHRCD'] != 11)].index\n",
    "data.drop(remove_indexes, inplace=True)\n",
    "remove_indexes = data[(data['EXCHCD'] != 1) & (data['EXCHCD'] != 2) & (data['EXCHCD'] != 3)].index\n",
    "data.drop(remove_indexes, inplace=True)\n",
    "\n",
    "data.loc[data[\"PRC\"] < 0, \"PRC\"] = 0 \n",
    "data.loc[data[\"RET\"] == 'C', \"RET\"] = 0\n",
    "data.loc[data[\"SHRCD\"] == 10, \"SHRCD\"] = \"Ordinary\" \n",
    "data.loc[data[\"SHRCD\"] == 11, \"SHRCD\"] = \"Common\" \n",
    "data.loc[data[\"EXCHCD\"] == 1, \"EXCHCD\"] = \"NYSE\" \n",
    "data.loc[data[\"EXCHCD\"] == 2, \"EXCHCD\"] = \"AMEX\" \n",
    "data.loc[data[\"EXCHCD\"] == 3, \"EXCHCD\"] = \"NASDAQ\" "
   ]
  },
  {
   "cell_type": "code",
   "execution_count": null,
   "id": "e5b55bdf",
   "metadata": {},
   "outputs": [],
   "source": [
    "data = data.dropna()\n",
    "data = data.sort_values('date')\n",
    "data = data.reset_index()\n",
    "data = data.drop('index', axis=1)"
   ]
  },
  {
   "cell_type": "code",
   "execution_count": null,
   "id": "753622ee",
   "metadata": {},
   "outputs": [],
   "source": [
    "lowest_date = datetime.datetime(2010, 1, 29)\n",
    "remove_indexes = data[data['date'] < lowest_date].index\n",
    "data.drop(remove_indexes, inplace=True)\n",
    "data = data.reset_index()\n",
    "data = data.drop('index', axis=1)"
   ]
  },
  {
   "cell_type": "code",
   "execution_count": null,
   "id": "490c0d0d",
   "metadata": {},
   "outputs": [],
   "source": [
    "cd .."
   ]
  },
  {
   "cell_type": "code",
   "execution_count": null,
   "id": "6a5afb60",
   "metadata": {},
   "outputs": [],
   "source": [
    "cd CS 145/CS-145/MarketMaven/data"
   ]
  },
  {
   "cell_type": "code",
   "execution_count": null,
   "id": "6e87c867",
   "metadata": {},
   "outputs": [],
   "source": [
    "filepath = Path('monthly_stock.csv')  \n",
    "data.to_csv(filepath)  "
   ]
  },
  {
   "cell_type": "markdown",
   "id": "82569cb4",
   "metadata": {},
   "source": [
    "# FFM Data "
   ]
  },
  {
   "cell_type": "code",
   "execution_count": null,
   "id": "ac64a9e1",
   "metadata": {},
   "outputs": [],
   "source": [
    "ffm = pd.read_excel(\"F-F_Research_Data_Factors.xlsx\")"
   ]
  },
  {
   "cell_type": "code",
   "execution_count": null,
   "id": "7b4d8869",
   "metadata": {},
   "outputs": [],
   "source": [
    "new_dates = []\n",
    "for item in ffm.values:\n",
    "    year = str(item[0])[:4]\n",
    "    month = str(item[0])[4:]\n",
    "    new_dates.append(year + \"-\" + month )\n",
    "\n",
    "for index in range(len(ffm['Date'])):\n",
    "    ffm['Date'][index] = new_dates[index]\n",
    "\n",
    "market_returns = ffm['Mkt-RF'] + ffm['RF']\n",
    "ffm['Mkt'] = market_returns\n",
    "\n",
    "monthly_ffm = ffm.loc[:1159]\n",
    "annual_ffm =  ffm.loc[1163:]\n",
    "\n",
    "monthly_ffm.Date = pd.to_datetime(monthly_ffm.Date)\n",
    "\n",
    "for index in range(len(monthly_ffm['Date'])):\n",
    "    monthly_ffm['Date'][index] = monthly_ffm['Date'][index] + relativedelta(day=31)\n",
    "#data['RET-Next'] = data.groupby('PERMNO')['RET'].shift(-1)\n",
    "#data[\"RET-Next\"].fillna(0, inplace=True)'''"
   ]
  },
  {
   "cell_type": "code",
   "execution_count": null,
   "id": "067de6ee",
   "metadata": {},
   "outputs": [],
   "source": [
    "lowest_date = datetime.datetime(2010, 1, 29)\n",
    "remove_indexes = monthly_ffm[monthly_ffm['Date'] < lowest_date].index\n",
    "monthly_ffm.drop(remove_indexes, inplace=True)\n",
    "monthly_ffm = monthly_ffm.reset_index()\n",
    "monthly_ffm = monthly_ffm.drop('index', axis=1)"
   ]
  },
  {
   "cell_type": "code",
   "execution_count": null,
   "id": "50224b1b",
   "metadata": {},
   "outputs": [],
   "source": [
    "filepath = Path('monthly_stock_ffm.csv')  \n",
    "monthly_ffm.to_csv(filepath)  "
   ]
  },
  {
   "cell_type": "markdown",
   "id": "5b243e77",
   "metadata": {},
   "source": [
    "# CRSP STOCK TICKER\n",
    "\n",
    "Note, we set the permno's ticker to the most recent ticker. "
   ]
  },
  {
   "cell_type": "code",
   "execution_count": 16,
   "id": "746526d0",
   "metadata": {},
   "outputs": [],
   "source": [
    "data = pd.read_csv(\"current_crsp_tickers.csv\")\n",
    "data = data.dropna()\n",
    "real_data = pd.read_csv('monthly_stock.csv')"
   ]
  },
  {
   "cell_type": "code",
   "execution_count": null,
   "id": "a1932a75",
   "metadata": {},
   "outputs": [],
   "source": [
    "tickers = data.groupby('PERMNO')['ticker'].apply(set)\n",
    "ticker_data = tickers.reset_index(name=\"ticker\")\n",
    "ticker_data['ticker'] = [(list(ticker))[-1] for ticker in ticker_data['ticker']]\n",
    "ticker_data = ticker_data.set_index('PERMNO')"
   ]
  },
  {
   "cell_type": "code",
   "execution_count": 23,
   "id": "8d853627",
   "metadata": {},
   "outputs": [],
   "source": [
    "highest_date = str(datetime.datetime(2020, 12, 31))[:10]\n",
    "second_highest_date = str(datetime.datetime(2020, 11, 30))[:10]\n",
    "\n",
    "last_data = real_data[(real_data['date'] != highest_date) & (real_data['date'] != second_highest_date)].index\n",
    "real_data.drop(last_data, inplace=True)\n",
    "curr_permnos = list(real_data.permno.unique())\n",
    "\n",
    "remove_indexes = data[data.permno.isin(curr_permnos) == False].index\n",
    "data.drop(remove_indexes, inplace=True)\n",
    "data = data.reset_index()\n",
    "data = data.drop('index', axis=1)\n",
    "data = data.set_index('permno')"
   ]
  },
  {
   "cell_type": "code",
   "execution_count": 24,
   "id": "6a7cd5e6",
   "metadata": {},
   "outputs": [
    {
     "data": {
      "text/html": [
       "<div>\n",
       "<style scoped>\n",
       "    .dataframe tbody tr th:only-of-type {\n",
       "        vertical-align: middle;\n",
       "    }\n",
       "\n",
       "    .dataframe tbody tr th {\n",
       "        vertical-align: top;\n",
       "    }\n",
       "\n",
       "    .dataframe thead th {\n",
       "        text-align: right;\n",
       "    }\n",
       "</style>\n",
       "<table border=\"1\" class=\"dataframe\">\n",
       "  <thead>\n",
       "    <tr style=\"text-align: right;\">\n",
       "      <th></th>\n",
       "      <th>ticker_symbol</th>\n",
       "    </tr>\n",
       "    <tr>\n",
       "      <th>permno</th>\n",
       "      <th></th>\n",
       "    </tr>\n",
       "  </thead>\n",
       "  <tbody>\n",
       "    <tr>\n",
       "      <th>10026</th>\n",
       "      <td>JJSF</td>\n",
       "    </tr>\n",
       "    <tr>\n",
       "      <th>10028</th>\n",
       "      <td>MINT</td>\n",
       "    </tr>\n",
       "    <tr>\n",
       "      <th>10032</th>\n",
       "      <td>PLXS</td>\n",
       "    </tr>\n",
       "    <tr>\n",
       "      <th>10044</th>\n",
       "      <td>RMCF</td>\n",
       "    </tr>\n",
       "    <tr>\n",
       "      <th>10051</th>\n",
       "      <td>SEQL</td>\n",
       "    </tr>\n",
       "    <tr>\n",
       "      <th>...</th>\n",
       "      <td>...</td>\n",
       "    </tr>\n",
       "    <tr>\n",
       "      <th>93422</th>\n",
       "      <td>QEP</td>\n",
       "    </tr>\n",
       "    <tr>\n",
       "      <th>93423</th>\n",
       "      <td>SIX</td>\n",
       "    </tr>\n",
       "    <tr>\n",
       "      <th>93426</th>\n",
       "      <td>VPG</td>\n",
       "    </tr>\n",
       "    <tr>\n",
       "      <th>93434</th>\n",
       "      <td>SANW</td>\n",
       "    </tr>\n",
       "    <tr>\n",
       "      <th>93436</th>\n",
       "      <td>TSLA</td>\n",
       "    </tr>\n",
       "  </tbody>\n",
       "</table>\n",
       "<p>3740 rows × 1 columns</p>\n",
       "</div>"
      ],
      "text/plain": [
       "       ticker_symbol\n",
       "permno              \n",
       "10026           JJSF\n",
       "10028           MINT\n",
       "10032           PLXS\n",
       "10044           RMCF\n",
       "10051           SEQL\n",
       "...              ...\n",
       "93422            QEP\n",
       "93423            SIX\n",
       "93426            VPG\n",
       "93434           SANW\n",
       "93436           TSLA\n",
       "\n",
       "[3740 rows x 1 columns]"
      ]
     },
     "execution_count": 24,
     "metadata": {},
     "output_type": "execute_result"
    }
   ],
   "source": [
    "# now drop all rows from data where the permno is not in the curr_permnos list \n",
    "data"
   ]
  },
  {
   "cell_type": "code",
   "execution_count": 25,
   "id": "e3812464",
   "metadata": {},
   "outputs": [],
   "source": [
    "filepath = Path('current_crsp_tickers.csv')  \n",
    "data.to_csv(filepath)  "
   ]
  }
 ],
 "metadata": {
  "kernelspec": {
   "display_name": "Python 3 (ipykernel)",
   "language": "python",
   "name": "python3"
  },
  "language_info": {
   "codemirror_mode": {
    "name": "ipython",
    "version": 3
   },
   "file_extension": ".py",
   "mimetype": "text/x-python",
   "name": "python",
   "nbconvert_exporter": "python",
   "pygments_lexer": "ipython3",
   "version": "3.9.4"
  }
 },
 "nbformat": 4,
 "nbformat_minor": 5
}
