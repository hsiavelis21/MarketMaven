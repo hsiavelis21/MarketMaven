{
 "cells": [
  {
   "cell_type": "markdown",
   "id": "d0be80e7",
   "metadata": {},
   "source": [
    "This notebook is used to parse crsp data that only includes stocks that are ordinary/common shares and listed on the NYSE, AMEX, or NASDAQ. Also, we set negative prices equal to 'NA' since a negative price represents the midpoint of the bid-ask spread and we only want closing price values."
   ]
  },
  {
   "cell_type": "code",
   "execution_count": 50,
   "id": "da7c149b",
   "metadata": {},
   "outputs": [],
   "source": [
    "import pandas as pd"
   ]
  },
  {
   "cell_type": "code",
   "execution_count": 51,
   "id": "8d606cef",
   "metadata": {},
   "outputs": [],
   "source": [
    "data = pd.read_csv(\"crsp_1926_2020.csv\")"
   ]
  },
  {
   "cell_type": "code",
   "execution_count": 52,
   "id": "7b2f3a72",
   "metadata": {},
   "outputs": [],
   "source": [
    "data.date = pd.to_datetime(data.date)\n",
    "#data.set_index('date', inplace=True)\n",
    "data = data.drop([0])"
   ]
  },
  {
   "cell_type": "code",
   "execution_count": 53,
   "id": "a3ee02ee",
   "metadata": {},
   "outputs": [],
   "source": [
    "# clean out instrumenents that are not stock\n",
    "data_to_drop = []\n",
    "for index in range(1, len(data['SHRCD'])):\n",
    "    curr_type = data['SHRCD'][index]\n",
    "    if curr_type != 10 and curr_type != 11:\n",
    "        data_to_drop.append(index)\n",
    "data = data.drop(data_to_drop)\n",
    "\n",
    "# re index the dataframe\n",
    "new_index = range(len(data['SHRCD']))\n",
    "data = data.reindex(new_index)"
   ]
  },
  {
   "cell_type": "code",
   "execution_count": 54,
   "id": "b9690f0a",
   "metadata": {},
   "outputs": [],
   "source": [
    "# clean out data to only have nyse, amex, and nasdaq \n",
    "data_to_drop = []\n",
    "for index in range(0, len(data['EXCHCD'])):\n",
    "    curr_type = data['EXCHCD'][index]\n",
    "    if curr_type != 1 and curr_type != 2 and curr_type != 3:\n",
    "        data_to_drop.append(index)\n",
    "data = data.drop(data_to_drop)\n",
    "\n",
    "# re index the dataframe\n",
    "new_index = range(len(data['EXCHCD']))\n",
    "data = data.reindex(new_index)\n",
    "data = data.drop([0])"
   ]
  },
  {
   "cell_type": "code",
   "execution_count": 56,
   "id": "c9249621",
   "metadata": {},
   "outputs": [
    {
     "name": "stderr",
     "output_type": "stream",
     "text": [
      "/var/folders/db/mg0z4ws13p59206165m2snhh0000gn/T/ipykernel_42000/4101745834.py:3: SettingWithCopyWarning: \n",
      "A value is trying to be set on a copy of a slice from a DataFrame\n",
      "\n",
      "See the caveats in the documentation: https://pandas.pydata.org/pandas-docs/stable/user_guide/indexing.html#returning-a-view-versus-a-copy\n",
      "  data['PRC'][index] = 'NA'\n"
     ]
    }
   ],
   "source": [
    "for index in range(1, len(data['PRC'])):\n",
    "    if data['PRC'][index] < 0:\n",
    "        data['PRC'][index] = 'NA'\n",
    "    \n"
   ]
  },
  {
   "cell_type": "code",
   "execution_count": 58,
   "id": "e5b55bdf",
   "metadata": {},
   "outputs": [],
   "source": [
    "data = data.dropna()\n",
    "data.set_index('date', inplace=True)"
   ]
  },
  {
   "cell_type": "code",
   "execution_count": null,
   "id": "cb14703c",
   "metadata": {},
   "outputs": [],
   "source": []
  }
 ],
 "metadata": {
  "kernelspec": {
   "display_name": "Python 3 (ipykernel)",
   "language": "python",
   "name": "python3"
  },
  "language_info": {
   "codemirror_mode": {
    "name": "ipython",
    "version": 3
   },
   "file_extension": ".py",
   "mimetype": "text/x-python",
   "name": "python",
   "nbconvert_exporter": "python",
   "pygments_lexer": "ipython3",
   "version": "3.9.4"
  }
 },
 "nbformat": 4,
 "nbformat_minor": 5
}
