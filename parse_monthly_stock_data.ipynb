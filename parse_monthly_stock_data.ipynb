{
 "cells": [
  {
   "cell_type": "markdown",
   "id": "d0be80e7",
   "metadata": {},
   "source": [
    "This notebook is used to parse crsp data that only includes stocks that are ordinary/common shares and listed on the NYSE, AMEX, or NASDAQ. Also, we set negative prices equal to 'NA' since a negative price represents the midpoint of the bid-ask spread and we only want closing price values."
   ]
  },
  {
   "cell_type": "markdown",
   "id": "97555d23",
   "metadata": {},
   "source": [
    "# CRSP Data"
   ]
  },
  {
   "cell_type": "code",
   "execution_count": 1,
   "id": "da7c149b",
   "metadata": {},
   "outputs": [],
   "source": [
    "import pandas as pd\n",
    "from pathlib import Path  \n",
    "import datetime"
   ]
  },
  {
   "cell_type": "code",
   "execution_count": 40,
   "id": "8d606cef",
   "metadata": {},
   "outputs": [],
   "source": [
    "data = pd.read_csv(\"crsp_1926_2020.csv\")\n",
    "data.date = pd.to_datetime(data.date)"
   ]
  },
  {
   "cell_type": "code",
   "execution_count": 41,
   "id": "a3ee02ee",
   "metadata": {},
   "outputs": [],
   "source": [
    "remove_indexes = data[(data['SHRCD'] != 10) & (data['SHRCD'] != 11)].index\n",
    "data.drop(remove_indexes, inplace=True)\n",
    "remove_indexes = data[(data['EXCHCD'] != 1) & (data['EXCHCD'] != 3) & (data['EXCHCD'] != 3)].index\n",
    "data.drop(remove_indexes, inplace=True)\n",
    "\n",
    "data.loc[data[\"PRC\"] < 0, \"PRC\"] = 0 \n",
    "data.loc[data[\"RET\"] == 'C', \"RET\"] = 0\n",
    "data.loc[data[\"SHRCD\"] == 10, \"SHRCD\"] = \"Ordinary\" \n",
    "data.loc[data[\"SHRCD\"] == 11, \"SHRCD\"] = \"Common\" \n",
    "data.loc[data[\"EXCHCD\"] == 1, \"EXCHCD\"] = \"NYSE\" \n",
    "data.loc[data[\"EXCHCD\"] == 2, \"EXCHCD\"] = \"AMEX\" \n",
    "data.loc[data[\"EXCHCD\"] == 3, \"EXCHCD\"] = \"NASDAQ\" "
   ]
  },
  {
   "cell_type": "code",
   "execution_count": 42,
   "id": "e5b55bdf",
   "metadata": {},
   "outputs": [],
   "source": [
    "data = data.dropna()\n",
    "data = data.sort_values('date')\n",
    "data = data.reset_index()\n",
    "data = data.drop('index', axis=1)"
   ]
  },
  {
   "cell_type": "code",
   "execution_count": 43,
   "id": "753622ee",
   "metadata": {},
   "outputs": [],
   "source": [
    "lowest_date = datetime.datetime(2010, 1, 29)\n",
    "remove_indexes = data[data['date'] < lowest_date].index\n",
    "data.drop(remove_indexes, inplace=True)\n",
    "data = data.reset_index()\n",
    "data = data.drop('index', axis=1)"
   ]
  },
  {
   "cell_type": "code",
   "execution_count": 48,
   "id": "8816e507",
   "metadata": {},
   "outputs": [
    {
     "name": "stdout",
     "output_type": "stream",
     "text": [
      "/Users/helensiavelis/Desktop/Caltech/Senior/Spring 2023/CS 145/CS-145/data\n"
     ]
    }
   ],
   "source": [
    "cd data"
   ]
  },
  {
   "cell_type": "code",
   "execution_count": 49,
   "id": "6e87c867",
   "metadata": {},
   "outputs": [],
   "source": [
    "filepath = Path('monthly_stock.csv')  \n",
    "data.to_csv(filepath)  "
   ]
  },
  {
   "cell_type": "markdown",
   "id": "6b9bf595",
   "metadata": {},
   "source": [
    "# FFM Data "
   ]
  },
  {
   "cell_type": "code",
   "execution_count": 27,
   "id": "ac64a9e1",
   "metadata": {},
   "outputs": [],
   "source": [
    "## fix ffm \n",
    "ffm = pd.read_excel(\"F-F_Research_Data_Factors.xlsx\")"
   ]
  },
  {
   "cell_type": "code",
   "execution_count": 230,
   "id": "44407d42",
   "metadata": {},
   "outputs": [],
   "source": [
    "new_dates = []\n",
    "for index, row in ffm.iterrows():\n",
    "    curr_date = row['Date']\n",
    "    new_date = curr_date[:4] + \"-\" + curr_date[4:-2] + \"-\" + curr_date[6:] \n",
    "    new_dates.append(new_date)\n",
    "ffm['Date'] = new_dates\n",
    "ffm = ffm.dropna()"
   ]
  },
  {
   "cell_type": "code",
   "execution_count": 231,
   "id": "e3c96cc4",
   "metadata": {},
   "outputs": [],
   "source": [
    "ffm['Date'] = pd.to_datetime(ffm.Date)"
   ]
  },
  {
   "cell_type": "code",
   "execution_count": 232,
   "id": "25adafb2",
   "metadata": {},
   "outputs": [],
   "source": [
    "lowest_date = datetime.datetime(2010, 1, 4)\n",
    "remove_indexes = ffm[ffm['Date'] < lowest_date].index\n",
    "ffm.drop(remove_indexes, inplace=True)"
   ]
  },
  {
   "cell_type": "code",
   "execution_count": 233,
   "id": "f86bbbb4",
   "metadata": {},
   "outputs": [
    {
     "data": {
      "text/html": [
       "<div>\n",
       "<style scoped>\n",
       "    .dataframe tbody tr th:only-of-type {\n",
       "        vertical-align: middle;\n",
       "    }\n",
       "\n",
       "    .dataframe tbody tr th {\n",
       "        vertical-align: top;\n",
       "    }\n",
       "\n",
       "    .dataframe thead th {\n",
       "        text-align: right;\n",
       "    }\n",
       "</style>\n",
       "<table border=\"1\" class=\"dataframe\">\n",
       "  <thead>\n",
       "    <tr style=\"text-align: right;\">\n",
       "      <th></th>\n",
       "      <th>Date</th>\n",
       "      <th>Mkt-RF</th>\n",
       "      <th>SMB</th>\n",
       "      <th>HML</th>\n",
       "      <th>RF</th>\n",
       "    </tr>\n",
       "  </thead>\n",
       "  <tbody>\n",
       "    <tr>\n",
       "      <th>22127</th>\n",
       "      <td>2010-01-04</td>\n",
       "      <td>1.69</td>\n",
       "      <td>0.61</td>\n",
       "      <td>1.13</td>\n",
       "      <td>0.000</td>\n",
       "    </tr>\n",
       "    <tr>\n",
       "      <th>22128</th>\n",
       "      <td>2010-01-05</td>\n",
       "      <td>0.31</td>\n",
       "      <td>-0.64</td>\n",
       "      <td>1.24</td>\n",
       "      <td>0.000</td>\n",
       "    </tr>\n",
       "    <tr>\n",
       "      <th>22129</th>\n",
       "      <td>2010-01-06</td>\n",
       "      <td>0.13</td>\n",
       "      <td>-0.22</td>\n",
       "      <td>0.57</td>\n",
       "      <td>0.000</td>\n",
       "    </tr>\n",
       "    <tr>\n",
       "      <th>22130</th>\n",
       "      <td>2010-01-07</td>\n",
       "      <td>0.40</td>\n",
       "      <td>0.09</td>\n",
       "      <td>0.98</td>\n",
       "      <td>0.000</td>\n",
       "    </tr>\n",
       "    <tr>\n",
       "      <th>22131</th>\n",
       "      <td>2010-01-08</td>\n",
       "      <td>0.33</td>\n",
       "      <td>0.37</td>\n",
       "      <td>0.01</td>\n",
       "      <td>0.000</td>\n",
       "    </tr>\n",
       "    <tr>\n",
       "      <th>...</th>\n",
       "      <td>...</td>\n",
       "      <td>...</td>\n",
       "      <td>...</td>\n",
       "      <td>...</td>\n",
       "      <td>...</td>\n",
       "    </tr>\n",
       "    <tr>\n",
       "      <th>25433</th>\n",
       "      <td>2023-02-22</td>\n",
       "      <td>-0.04</td>\n",
       "      <td>0.55</td>\n",
       "      <td>-0.43</td>\n",
       "      <td>0.018</td>\n",
       "    </tr>\n",
       "    <tr>\n",
       "      <th>25434</th>\n",
       "      <td>2023-02-23</td>\n",
       "      <td>0.46</td>\n",
       "      <td>0.21</td>\n",
       "      <td>-0.23</td>\n",
       "      <td>0.018</td>\n",
       "    </tr>\n",
       "    <tr>\n",
       "      <th>25435</th>\n",
       "      <td>2023-02-24</td>\n",
       "      <td>-1.09</td>\n",
       "      <td>-0.49</td>\n",
       "      <td>1.26</td>\n",
       "      <td>0.018</td>\n",
       "    </tr>\n",
       "    <tr>\n",
       "      <th>25436</th>\n",
       "      <td>2023-02-27</td>\n",
       "      <td>0.31</td>\n",
       "      <td>0.15</td>\n",
       "      <td>-0.29</td>\n",
       "      <td>0.018</td>\n",
       "    </tr>\n",
       "    <tr>\n",
       "      <th>25437</th>\n",
       "      <td>2023-02-28</td>\n",
       "      <td>-0.26</td>\n",
       "      <td>0.62</td>\n",
       "      <td>-0.71</td>\n",
       "      <td>0.018</td>\n",
       "    </tr>\n",
       "  </tbody>\n",
       "</table>\n",
       "<p>3311 rows × 5 columns</p>\n",
       "</div>"
      ],
      "text/plain": [
       "            Date  Mkt-RF   SMB   HML     RF\n",
       "22127 2010-01-04    1.69  0.61  1.13  0.000\n",
       "22128 2010-01-05    0.31 -0.64  1.24  0.000\n",
       "22129 2010-01-06    0.13 -0.22  0.57  0.000\n",
       "22130 2010-01-07    0.40  0.09  0.98  0.000\n",
       "22131 2010-01-08    0.33  0.37  0.01  0.000\n",
       "...          ...     ...   ...   ...    ...\n",
       "25433 2023-02-22   -0.04  0.55 -0.43  0.018\n",
       "25434 2023-02-23    0.46  0.21 -0.23  0.018\n",
       "25435 2023-02-24   -1.09 -0.49  1.26  0.018\n",
       "25436 2023-02-27    0.31  0.15 -0.29  0.018\n",
       "25437 2023-02-28   -0.26  0.62 -0.71  0.018\n",
       "\n",
       "[3311 rows x 5 columns]"
      ]
     },
     "execution_count": 233,
     "metadata": {},
     "output_type": "execute_result"
    }
   ],
   "source": [
    "ffm"
   ]
  },
  {
   "cell_type": "code",
   "execution_count": 234,
   "id": "50224b1b",
   "metadata": {},
   "outputs": [],
   "source": [
    "filepath = Path('monthly_stock_ffm.csv')  \n",
    "ffm.to_csv(filepath)  "
   ]
  },
  {
   "cell_type": "code",
   "execution_count": 113,
   "id": "fc6fcc5b",
   "metadata": {},
   "outputs": [],
   "source": [
    "## map permno to stock ticker/name \n"
   ]
  },
  {
   "cell_type": "code",
   "execution_count": null,
   "id": "2102ed75",
   "metadata": {},
   "outputs": [],
   "source": []
  }
 ],
 "metadata": {
  "kernelspec": {
   "display_name": "Python 3 (ipykernel)",
   "language": "python",
   "name": "python3"
  },
  "language_info": {
   "codemirror_mode": {
    "name": "ipython",
    "version": 3
   },
   "file_extension": ".py",
   "mimetype": "text/x-python",
   "name": "python",
   "nbconvert_exporter": "python",
   "pygments_lexer": "ipython3",
   "version": "3.9.4"
  }
 },
 "nbformat": 4,
 "nbformat_minor": 5
}
