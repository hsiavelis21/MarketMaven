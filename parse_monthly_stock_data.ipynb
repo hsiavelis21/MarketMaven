{
 "cells": [
  {
   "cell_type": "markdown",
   "id": "d0be80e7",
   "metadata": {},
   "source": [
    "This notebook is used to parse crsp data that only includes stocks that are ordinary/common shares and listed on the NYSE, AMEX, or NASDAQ. Also, we set negative prices equal to 'NA' since a negative price represents the midpoint of the bid-ask spread and we only want closing price values."
   ]
  },
  {
   "cell_type": "markdown",
   "id": "0c9f362c",
   "metadata": {},
   "source": [
    "# CRSP Data"
   ]
  },
  {
   "cell_type": "code",
   "execution_count": 70,
   "id": "da7c149b",
   "metadata": {},
   "outputs": [],
   "source": [
    "import pandas as pd\n",
    "from pathlib import Path  \n",
    "import datetime\n",
    "from dateutil.relativedelta import relativedelta\n",
    "import warnings\n",
    "warnings.filterwarnings('ignore')\n"
   ]
  },
  {
   "cell_type": "code",
   "execution_count": 40,
   "id": "8d606cef",
   "metadata": {},
   "outputs": [],
   "source": [
    "data = pd.read_csv(\"crsp_1926_2020.csv\")\n",
    "data.date = pd.to_datetime(data.date)"
   ]
  },
  {
   "cell_type": "code",
   "execution_count": 41,
   "id": "a3ee02ee",
   "metadata": {},
   "outputs": [],
   "source": [
    "remove_indexes = data[(data['SHRCD'] != 10) & (data['SHRCD'] != 11)].index\n",
    "data.drop(remove_indexes, inplace=True)\n",
    "remove_indexes = data[(data['EXCHCD'] != 1) & (data['EXCHCD'] != 3) & (data['EXCHCD'] != 3)].index\n",
    "data.drop(remove_indexes, inplace=True)\n",
    "\n",
    "data.loc[data[\"PRC\"] < 0, \"PRC\"] = 0 \n",
    "data.loc[data[\"RET\"] == 'C', \"RET\"] = 0\n",
    "data.loc[data[\"SHRCD\"] == 10, \"SHRCD\"] = \"Ordinary\" \n",
    "data.loc[data[\"SHRCD\"] == 11, \"SHRCD\"] = \"Common\" \n",
    "data.loc[data[\"EXCHCD\"] == 1, \"EXCHCD\"] = \"NYSE\" \n",
    "data.loc[data[\"EXCHCD\"] == 2, \"EXCHCD\"] = \"AMEX\" \n",
    "data.loc[data[\"EXCHCD\"] == 3, \"EXCHCD\"] = \"NASDAQ\" "
   ]
  },
  {
   "cell_type": "code",
   "execution_count": 42,
   "id": "e5b55bdf",
   "metadata": {},
   "outputs": [],
   "source": [
    "data = data.dropna()\n",
    "data = data.sort_values('date')\n",
    "data = data.reset_index()\n",
    "data = data.drop('index', axis=1)"
   ]
  },
  {
   "cell_type": "code",
   "execution_count": 43,
   "id": "753622ee",
   "metadata": {},
   "outputs": [],
   "source": [
    "lowest_date = datetime.datetime(2010, 1, 29)\n",
    "remove_indexes = data[data['date'] < lowest_date].index\n",
    "data.drop(remove_indexes, inplace=True)\n",
    "data = data.reset_index()\n",
    "data = data.drop('index', axis=1)"
   ]
  },
  {
   "cell_type": "code",
   "execution_count": 49,
   "id": "6e87c867",
   "metadata": {},
   "outputs": [],
   "source": [
    "filepath = Path('monthly_stock.csv')  \n",
    "data.to_csv(filepath)  "
   ]
  },
  {
   "cell_type": "markdown",
   "id": "82569cb4",
   "metadata": {},
   "source": [
    "# FFM Data "
   ]
  },
  {
   "cell_type": "code",
   "execution_count": 78,
   "id": "ac64a9e1",
   "metadata": {},
   "outputs": [],
   "source": [
    "ffm = pd.read_excel(\"F-F_Research_Data_Factors.xlsx\")"
   ]
  },
  {
   "cell_type": "code",
   "execution_count": 79,
   "id": "7b4d8869",
   "metadata": {},
   "outputs": [],
   "source": [
    "new_dates = []\n",
    "for item in ffm.values:\n",
    "    year = str(item[0])[:4]\n",
    "    month = str(item[0])[4:]\n",
    "    new_dates.append(year + \"-\" + month )\n",
    "\n",
    "for index in range(len(ffm['Date'])):\n",
    "    ffm['Date'][index] = new_dates[index]\n",
    "\n",
    "market_returns = ffm['Mkt-RF'] + ffm['RF']\n",
    "ffm['Mkt'] = market_returns\n",
    "\n",
    "monthly_ffm = ffm.loc[:1159]\n",
    "annual_ffm =  ffm.loc[1163:]\n",
    "\n",
    "monthly_ffm.Date = pd.to_datetime(monthly_ffm.Date)\n",
    "\n",
    "for index in range(len(monthly_ffm['Date'])):\n",
    "    monthly_ffm['Date'][index] = monthly_ffm['Date'][index] + relativedelta(day=31)\n",
    "#data['RET-Next'] = data.groupby('PERMNO')['RET'].shift(-1)\n",
    "#data[\"RET-Next\"].fillna(0, inplace=True)'''"
   ]
  },
  {
   "cell_type": "code",
   "execution_count": 80,
   "id": "067de6ee",
   "metadata": {},
   "outputs": [],
   "source": [
    "lowest_date = datetime.datetime(2010, 1, 29)\n",
    "remove_indexes = monthly_ffm[monthly_ffm['Date'] < lowest_date].index\n",
    "monthly_ffm.drop(remove_indexes, inplace=True)\n",
    "monthly_ffm = monthly_ffm.reset_index()\n",
    "monthly_ffm = monthly_ffm.drop('index', axis=1)"
   ]
  },
  {
   "cell_type": "code",
   "execution_count": 87,
   "id": "50224b1b",
   "metadata": {},
   "outputs": [],
   "source": [
    "filepath = Path('monthly_stock_ffm.csv')  \n",
    "monthly_ffm.to_csv(filepath)  "
   ]
  }
 ],
 "metadata": {
  "kernelspec": {
   "display_name": "Python 3 (ipykernel)",
   "language": "python",
   "name": "python3"
  },
  "language_info": {
   "codemirror_mode": {
    "name": "ipython",
    "version": 3
   },
   "file_extension": ".py",
   "mimetype": "text/x-python",
   "name": "python",
   "nbconvert_exporter": "python",
   "pygments_lexer": "ipython3",
   "version": "3.9.4"
  }
 },
 "nbformat": 4,
 "nbformat_minor": 5
}
